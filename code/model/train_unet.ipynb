{
 "cells": [
  {
   "cell_type": "markdown",
   "id": "00fa3e98",
   "metadata": {},
   "source": [
    "# Import Libraries\n",
    "This section imports the necessary libraries for data handling, model training, and visualization."
   ]
  },
  {
   "cell_type": "code",
   "execution_count": 6,
   "id": "9454eba1",
   "metadata": {},
   "outputs": [],
   "source": [
    "import os\n",
    "import glob\n",
    "import cv2\n",
    "import numpy as np\n",
    "\n",
    "import torch\n",
    "import torch.nn as nn\n",
    "import torch.optim as optim\n",
    "from torch.utils.data import Dataset, DataLoader, random_split\n",
    "\n",
    "from unet_model import UNet"
   ]
  },
  {
   "cell_type": "markdown",
   "id": "f909d9cf",
   "metadata": {},
   "source": [
    "# Define Dataset Class\n",
    "This section defines the `MammoDataset` class, which is responsible for loading and preprocessing mammogram images and their corresponding masks."
   ]
  },
  {
   "cell_type": "code",
   "execution_count": 7,
   "id": "c2a7742c",
   "metadata": {},
   "outputs": [],
   "source": [
    "# -------------------- Dataset --------------------\n",
    "class MammoDataset(Dataset):\n",
    "    def __init__(self, image_paths, mask_paths):\n",
    "        assert len(image_paths) == len(mask_paths), \"Image and mask count mismatch\"\n",
    "        self.image_paths = image_paths\n",
    "        self.mask_paths = mask_paths\n",
    "\n",
    "    def __len__(self):\n",
    "        return len(self.image_paths)\n",
    "\n",
    "    def __getitem__(self, idx):\n",
    "        image = cv2.imread(self.image_paths[idx], cv2.IMREAD_GRAYSCALE)\n",
    "        mask = cv2.imread(self.mask_paths[idx], cv2.IMREAD_GRAYSCALE)\n",
    "\n",
    "        image = image.astype(np.float32) / 255.0\n",
    "        mask = mask.astype(np.float32) / 255.0\n",
    "\n",
    "        image = np.expand_dims(image, axis=0)  # Add channel dimension\n",
    "        mask = np.expand_dims(mask, axis=0)\n",
    "\n",
    "        return torch.tensor(image), torch.tensor(mask)"
   ]
  },
  {
   "cell_type": "markdown",
   "id": "793e01bf",
   "metadata": {},
   "source": [
    "# Load and Prepare Data\n",
    "This section loads the mammogram images and masks, applies transformations, and splits the dataset into training and validation sets."
   ]
  },
  {
   "cell_type": "code",
   "execution_count": 8,
   "id": "0c1a8119",
   "metadata": {},
   "outputs": [
    {
     "name": "stdout",
     "output_type": "stream",
     "text": [
      "28 28\n",
      "28\n",
      "(tensor([[[0.9020, 0.9137, 0.9373,  ..., 0.0000, 0.0000, 0.0000],\n",
      "         [0.9059, 0.9176, 0.9373,  ..., 0.0000, 0.0000, 0.0000],\n",
      "         [0.9098, 0.9176, 0.9373,  ..., 0.0000, 0.0000, 0.0000],\n",
      "         ...,\n",
      "         [0.9765, 1.0000, 1.0000,  ..., 0.0000, 0.0000, 0.0000],\n",
      "         [0.9765, 1.0000, 1.0000,  ..., 0.0000, 0.0000, 0.0000],\n",
      "         [0.9765, 1.0000, 1.0000,  ..., 0.0000, 0.0000, 0.0000]]]), tensor([[[0., 0., 0.,  ..., 0., 0., 0.],\n",
      "         [0., 0., 0.,  ..., 0., 0., 0.],\n",
      "         [0., 0., 0.,  ..., 0., 0., 0.],\n",
      "         ...,\n",
      "         [0., 0., 0.,  ..., 0., 0., 0.],\n",
      "         [0., 0., 0.,  ..., 0., 0., 0.],\n",
      "         [0., 0., 0.,  ..., 0., 0., 0.]]]))\n"
     ]
    }
   ],
   "source": [
    "# -------------------- Load Data --------------------\n",
    "image_dir = \"../../data/train/inputs\"\n",
    "mask_dir = \"../../data/train/masks\"\n",
    "image_paths = sorted(glob.glob(os.path.join(image_dir, \"*.png\")))\n",
    "mask_paths = sorted(glob.glob(os.path.join(mask_dir, \"*.png\")))\n",
    "print(len(image_paths), len(mask_paths))\n",
    "dataset = MammoDataset(image_paths, mask_paths)\n",
    "\n",
    "print(len(dataset))\n",
    "print(dataset[0])\n",
    "\n",
    "train_size = int(0.8 * len(dataset))\n",
    "val_size = len(dataset) - train_size\n",
    "train_dataset, val_dataset = random_split(dataset, [train_size, val_size])\n",
    "\n",
    "train_loader = DataLoader(train_dataset, batch_size=4, shuffle=True)\n",
    "val_loader = DataLoader(val_dataset, batch_size=4)\n"
   ]
  },
  {
   "cell_type": "markdown",
   "id": "f2d620b6",
   "metadata": {},
   "source": [
    "# Initialize Model\n",
    "This section initializes the U-Net model, sets the device (CPU or GPU), and defines the loss function and optimizer."
   ]
  },
  {
   "cell_type": "code",
   "execution_count": 9,
   "id": "6f176fa3",
   "metadata": {},
   "outputs": [
    {
     "name": "stdout",
     "output_type": "stream",
     "text": [
      "Using device: cuda\n"
     ]
    }
   ],
   "source": [
    "# -------------------- Model Setup --------------------\n",
    "device = torch.device(\"cuda\" if torch.cuda.is_available() else \"cpu\")\n",
    "print(\"Using device:\", device)\n",
    "model = UNet().to(device)\n",
    "\n",
    "criterion = nn.BCELoss()\n",
    "optimizer = optim.Adam(model.parameters(), lr=1e-4)"
   ]
  },
  {
   "cell_type": "markdown",
   "id": "a5ef4b69",
   "metadata": {},
   "source": [
    "# Training Loop\n",
    "This section contains the training loop, which iterates over the dataset for a specified number of epochs, calculates losses, and saves the best model."
   ]
  },
  {
   "cell_type": "code",
   "execution_count": 10,
   "id": "f5e9f774",
   "metadata": {},
   "outputs": [
    {
     "name": "stdout",
     "output_type": "stream",
     "text": [
      "Epoch 1/50, Train Loss: 3.0505, Val Loss: 1.3913\n",
      "Epoch 2/50, Train Loss: 2.0052, Val Loss: 1.3833\n",
      "Epoch 3/50, Train Loss: 1.7765, Val Loss: 1.3492\n",
      "Epoch 4/50, Train Loss: 1.5662, Val Loss: 1.3068\n",
      "Epoch 5/50, Train Loss: 1.4658, Val Loss: 1.2249\n",
      "Epoch 6/50, Train Loss: 1.3975, Val Loss: 1.0852\n",
      "Epoch 7/50, Train Loss: 1.3041, Val Loss: 0.8910\n",
      "Epoch 8/50, Train Loss: 1.2973, Val Loss: 0.6924\n",
      "Epoch 9/50, Train Loss: 1.2057, Val Loss: 0.5830\n",
      "Epoch 10/50, Train Loss: 1.2011, Val Loss: 0.6400\n",
      "Epoch 11/50, Train Loss: 1.1295, Val Loss: 0.4631\n",
      "Epoch 12/50, Train Loss: 1.1892, Val Loss: 0.5933\n",
      "Epoch 13/50, Train Loss: 1.1323, Val Loss: 0.3884\n",
      "Epoch 14/50, Train Loss: 1.1277, Val Loss: 0.4479\n",
      "Epoch 15/50, Train Loss: 1.1127, Val Loss: 0.3592\n",
      "Epoch 16/50, Train Loss: 1.0230, Val Loss: 0.3620\n",
      "Epoch 17/50, Train Loss: 1.0141, Val Loss: 0.4499\n",
      "Epoch 18/50, Train Loss: 0.9839, Val Loss: 0.3528\n",
      "Epoch 19/50, Train Loss: 0.9731, Val Loss: 0.3523\n",
      "Epoch 20/50, Train Loss: 0.9121, Val Loss: 0.5272\n",
      "Epoch 21/50, Train Loss: 0.8918, Val Loss: 0.4901\n",
      "Epoch 22/50, Train Loss: 0.9252, Val Loss: 0.6537\n",
      "Epoch 23/50, Train Loss: 0.8932, Val Loss: 0.3577\n",
      "Epoch 24/50, Train Loss: 0.8838, Val Loss: 0.3950\n",
      "Epoch 25/50, Train Loss: 0.8954, Val Loss: 0.3235\n",
      "Epoch 26/50, Train Loss: 0.9054, Val Loss: 0.3354\n",
      "Epoch 27/50, Train Loss: 0.8349, Val Loss: 0.3357\n",
      "Epoch 28/50, Train Loss: 0.7673, Val Loss: 0.3544\n",
      "Epoch 29/50, Train Loss: 0.7643, Val Loss: 0.3234\n",
      "Epoch 30/50, Train Loss: 0.7604, Val Loss: 0.3208\n",
      "Epoch 31/50, Train Loss: 0.7885, Val Loss: 0.3080\n",
      "Epoch 32/50, Train Loss: 0.7711, Val Loss: 0.2939\n",
      "Epoch 33/50, Train Loss: 0.7329, Val Loss: 0.2949\n",
      "Epoch 34/50, Train Loss: 0.7060, Val Loss: 0.3091\n",
      "Epoch 35/50, Train Loss: 0.6906, Val Loss: 0.3168\n",
      "Epoch 36/50, Train Loss: 0.7122, Val Loss: 0.3036\n",
      "Epoch 37/50, Train Loss: 0.7069, Val Loss: 0.3707\n",
      "Epoch 38/50, Train Loss: 0.6900, Val Loss: 0.3011\n",
      "Epoch 39/50, Train Loss: 0.6877, Val Loss: 0.3281\n",
      "Epoch 40/50, Train Loss: 0.6599, Val Loss: 0.2839\n",
      "Epoch 41/50, Train Loss: 0.6453, Val Loss: 0.3068\n",
      "Epoch 42/50, Train Loss: 0.6449, Val Loss: 0.2990\n",
      "Epoch 43/50, Train Loss: 0.6313, Val Loss: 0.3004\n",
      "Epoch 44/50, Train Loss: 0.6317, Val Loss: 0.2837\n",
      "Epoch 45/50, Train Loss: 0.6704, Val Loss: 0.2841\n",
      "Epoch 46/50, Train Loss: 0.6146, Val Loss: 0.3205\n",
      "Epoch 47/50, Train Loss: 0.6457, Val Loss: 0.2853\n",
      "Epoch 48/50, Train Loss: 0.5819, Val Loss: 0.2811\n",
      "Epoch 49/50, Train Loss: 0.5942, Val Loss: 0.2848\n",
      "Epoch 50/50, Train Loss: 0.5672, Val Loss: 0.2783\n"
     ]
    }
   ],
   "source": [
    "# -------------------- Training --------------------\n",
    "epochs = 50\n",
    "best_loss = float(\"inf\")\n",
    "\n",
    "for epoch in range(epochs):\n",
    "    model.train()\n",
    "    train_loss = 0\n",
    "    for images, masks in train_loader:\n",
    "        images = images.to(device)\n",
    "        masks = masks.to(device)\n",
    "\n",
    "        preds = model(images)\n",
    "        loss = criterion(preds, masks)\n",
    "\n",
    "        optimizer.zero_grad()\n",
    "        loss.backward()\n",
    "        optimizer.step()\n",
    "\n",
    "        train_loss += loss.item()\n",
    "\n",
    "    model.eval()\n",
    "    val_loss = 0\n",
    "    with torch.no_grad():\n",
    "        for images, masks in val_loader:\n",
    "            images = images.to(device)\n",
    "            masks = masks.to(device)\n",
    "            preds = model(images)\n",
    "            loss = criterion(preds, masks)\n",
    "            val_loss += loss.item()\n",
    "\n",
    "    print(f\"Epoch {epoch+1}/{epochs}, Train Loss: {train_loss:.4f}, Val Loss: {val_loss:.4f}\")\n",
    "\n",
    "    # Save best model\n",
    "    if val_loss < best_loss:\n",
    "        best_loss = val_loss\n",
    "        torch.save(model.state_dict(), \"best_unet.pth\")\n"
   ]
  }
 ],
 "metadata": {
  "kernelspec": {
   "display_name": "venv",
   "language": "python",
   "name": "python3"
  },
  "language_info": {
   "codemirror_mode": {
    "name": "ipython",
    "version": 3
   },
   "file_extension": ".py",
   "mimetype": "text/x-python",
   "name": "python",
   "nbconvert_exporter": "python",
   "pygments_lexer": "ipython3",
   "version": "3.12.10"
  }
 },
 "nbformat": 4,
 "nbformat_minor": 5
}
