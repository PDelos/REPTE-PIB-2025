{
 "cells": [
  {
   "cell_type": "code",
   "execution_count": 5,
   "id": "d3c57a35",
   "metadata": {},
   "outputs": [
    {
     "name": "stdout",
     "output_type": "stream",
     "text": [
      "cuda\n"
     ]
    }
   ],
   "source": [
    "import os\n",
    "import glob\n",
    "import cv2\n",
    "import numpy as np\n",
    "import torch\n",
    "from unet_model import UNet\n",
    "\n",
    "# ---------- Configuration ----------\n",
    "image_dir = \"../../data/test/inputs\"\n",
    "mask_dir = \"../../data/test/masks/unet\"\n",
    "model_path = \"best_unet.pth\"\n",
    "input_size = (768, 512)  # (width, height)\n",
    "\n",
    "os.makedirs(mask_dir, exist_ok=True)\n",
    "\n",
    "# ---------- Load Model ----------\n",
    "device = torch.device(\"cuda\" if torch.cuda.is_available() else \"cpu\")\n",
    "model = UNet().to(device)\n",
    "model.load_state_dict(torch.load(model_path, map_location=device))\n",
    "model.eval()\n",
    "\n",
    "# ---------- Prediction ----------\n",
    "print(device)\n"
   ]
  },
  {
   "cell_type": "code",
   "execution_count": 7,
   "id": "eb70aba7",
   "metadata": {},
   "outputs": [
    {
     "name": "stdout",
     "output_type": "stream",
     "text": [
      "Inference completed. Masks saved to ../../data/test/masks/unet\n"
     ]
    }
   ],
   "source": [
    "image_paths = sorted(glob.glob(os.path.join(image_dir, \"*.tiff\")))\n",
    "\n",
    "for img_path in image_paths:\n",
    "    img = cv2.imread(img_path, cv2.IMREAD_GRAYSCALE)\n",
    "    img_resized = cv2.resize(img, input_size).astype(np.float32) / 255.0\n",
    "    tensor = torch.tensor(img_resized).unsqueeze(0).unsqueeze(0).to(device)\n",
    "\n",
    "    with torch.no_grad():\n",
    "        pred = model(tensor)\n",
    "        pred_mask = (pred.squeeze().cpu().numpy() > 0.5).astype(np.uint8) * 255\n",
    "\n",
    "    # Resize back to original size (optional)\n",
    "    pred_mask_resized = cv2.resize(pred_mask, (img.shape[1], img.shape[0]))\n",
    "\n",
    "    # Save output\n",
    "    filename = os.path.basename(img_path)\n",
    "    out_path = os.path.join(mask_dir, filename)\n",
    "    cv2.imwrite(out_path, pred_mask_resized)\n",
    "\n",
    "print(\"Inference completed. Masks saved to\", mask_dir)"
   ]
  }
 ],
 "metadata": {
  "kernelspec": {
   "display_name": "venv",
   "language": "python",
   "name": "python3"
  },
  "language_info": {
   "codemirror_mode": {
    "name": "ipython",
    "version": 3
   },
   "file_extension": ".py",
   "mimetype": "text/x-python",
   "name": "python",
   "nbconvert_exporter": "python",
   "pygments_lexer": "ipython3",
   "version": "3.12.10"
  }
 },
 "nbformat": 4,
 "nbformat_minor": 5
}
